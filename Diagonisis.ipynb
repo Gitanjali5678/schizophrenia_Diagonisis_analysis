{
 "cells": [
  {
   "cell_type": "markdown",
   "metadata": {},
   "source": [
    "###  Schizophrenia Diagonisis"
   ]
  },
  {
   "cell_type": "code",
   "execution_count": null,
   "metadata": {},
   "outputs": [],
   "source": [
    "## loading dataset \n",
    "import pandas as pd\n",
    "import numpy as np\n",
    "df=pd.read_csv('schizophrenia_dataset.csv')\n",
    "df.head()\n"
   ]
  },
  {
   "cell_type": "code",
   "execution_count": null,
   "metadata": {},
   "outputs": [],
   "source": [
    "## handling missing values if any \n",
    "df.dropna().reset_index(drop=True)"
   ]
  },
  {
   "cell_type": "code",
   "execution_count": null,
   "metadata": {},
   "outputs": [],
   "source": [
    "df.shape"
   ]
  },
  {
   "cell_type": "code",
   "execution_count": null,
   "metadata": {},
   "outputs": [],
   "source": [
    "## check if any datatype is in int or not \n",
    "## if any the we have to change the datatype for analysis\n",
    "df.info()\n",
    "## there is no other dtype rather than int "
   ]
  },
  {
   "cell_type": "code",
   "execution_count": null,
   "metadata": {},
   "outputs": [],
   "source": [
    "## changing the column name into english names for better understanding\n",
    "## encoding of column names\n",
    "df.columns=['Patient_ID','Age','Gender','Education_Level','Marital_Status','Occupation','Income_Level','Living_Area ','Diagnosis','Disease_Duration','Hospitalizations','Family_History ','Substance_Use','Suicide_Attempt','Positive_Symptom_Score','Negative_Symptom_Score','GAF_Score','Social_Support','Stress_Factors','Medication_Adherence']\n"
   ]
  },
  {
   "cell_type": "code",
   "execution_count": null,
   "metadata": {},
   "outputs": [],
   "source": [
    "df.head()"
   ]
  },
  {
   "cell_type": "code",
   "execution_count": null,
   "metadata": {},
   "outputs": [],
   "source": [
    "df.isnull().sum()"
   ]
  },
  {
   "cell_type": "markdown",
   "metadata": {},
   "source": [
    "##### there is no need of label encoding as the dataset is already encoded if it not then it needed label encoding "
   ]
  },
  {
   "cell_type": "code",
   "execution_count": null,
   "metadata": {},
   "outputs": [],
   "source": [
    "X=df.drop(columns=['Patient_ID','Diagnosis'])\n",
    "y=df['Diagnosis']\n",
    "X.columns\n"
   ]
  },
  {
   "cell_type": "code",
   "execution_count": null,
   "metadata": {},
   "outputs": [],
   "source": [
    "from sklearn.model_selection import train_test_split\n",
    "X_train,X_test,Y_train,Y_test=train_test_split(X,y,test_size=0.20,random_state=42)\n",
    "X_train.shape\n",
    "X_train.columns"
   ]
  },
  {
   "cell_type": "code",
   "execution_count": null,
   "metadata": {},
   "outputs": [],
   "source": [
    "from sklearn.preprocessing import StandardScaler\n",
    "\n",
    "num_features = ['Age', 'Positive_Symptom_Score', 'Negative_Symptom_Score', 'GAF_Score','Disease_Duration']\n",
    "scaler = StandardScaler()\n",
    "X_train[num_features]=scaler.fit_transform(X_train[num_features])\n",
    "X_test[num_features]=scaler.transform(X_test[num_features])"
   ]
  },
  {
   "cell_type": "code",
   "execution_count": null,
   "metadata": {},
   "outputs": [],
   "source": [
    "from sklearn.feature_selection import RFE\n",
    "from sklearn.linear_model import LogisticRegression\n",
    "logistic = LogisticRegression()\n",
    "rfe = RFE(logistic, n_features_to_select=10)  # Select top 10 features\n",
    "X_train_ref = rfe.fit_transform(X_train, Y_train)\n",
    "X_test_ref = rfe.transform(X_test)\n",
    "\n",
    "print(\"Selected Features:\", X.columns[rfe.support_])\n"
   ]
  },
  {
   "cell_type": "code",
   "execution_count": null,
   "metadata": {},
   "outputs": [],
   "source": [
    "from sklearn.linear_model import LogisticRegression\n",
    "logistic=LogisticRegression()\n",
    "logistic.fit(X_train_ref,Y_train)\n",
    "y_pred=logistic.predict(X_test_ref)"
   ]
  },
  {
   "cell_type": "code",
   "execution_count": null,
   "metadata": {},
   "outputs": [],
   "source": [
    "from sklearn.metrics import confusion_matrix,classification_report,accuracy_score\n",
    "score=accuracy_score(y_pred,Y_test)\n",
    "con_max=confusion_matrix(y_pred,Y_test)\n",
    "clss=classification_report(y_pred,Y_test)\n",
    "print(\"accuracy score:\",score)\n",
    "print(\"confusion matrix: \",con_max)\n",
    "print(\"classification report\",clss)"
   ]
  },
  {
   "cell_type": "markdown",
   "metadata": {},
   "source": [
    "##### hyper tunning"
   ]
  },
  {
   "cell_type": "code",
   "execution_count": null,
   "metadata": {},
   "outputs": [],
   "source": [
    "## find the best hyperparameters for a machine learning model and increase accuracy\n",
    "model=LogisticRegression()\n",
    "penalty=['l1','l2','elasticnet']\n",
    "c_values=[100,10,1.0,0.1,0.01]\n",
    "solver=['newton-cg','lbfgs','sag','saga']\n",
    "params=dict(penalty=penalty,C=c_values,solver=solver)"
   ]
  },
  {
   "cell_type": "code",
   "execution_count": null,
   "metadata": {},
   "outputs": [],
   "source": [
    "from sklearn.model_selection import StratifiedKFold\n",
    "cv=StratifiedKFold(n_splits=5)\n",
    "from sklearn.model_selection import GridSearchCV\n",
    "grid=GridSearchCV(estimator=model,param_grid=params,cv=cv,n_jobs=-1,verbose=1,scoring='accuracy')\n"
   ]
  },
  {
   "cell_type": "code",
   "execution_count": null,
   "metadata": {},
   "outputs": [],
   "source": [
    "grid.fit(X_train_ref,Y_train)\n",
    "y_pred=grid.predict(X_test_ref)\n",
    "grid.best_params_\n",
    "## o/p {'C': 100, 'penalty': 'l1', 'solver': 'saga'}"
   ]
  },
  {
   "cell_type": "code",
   "execution_count": null,
   "metadata": {},
   "outputs": [],
   "source": [
    "score=accuracy_score(y_pred,Y_test)\n",
    "con_max=confusion_matrix(y_pred,Y_test)\n",
    "clss=classification_report(y_pred,Y_test)\n",
    "print(\"accuracy score:\",score)\n",
    "print(\"confusion matrix: \",con_max)\n",
    "print(\"classification report\",clss)"
   ]
  },
  {
   "cell_type": "code",
   "execution_count": null,
   "metadata": {},
   "outputs": [],
   "source": [
    "import matplotlib.pyplot as plt\n",
    "import seaborn as sns \n",
    "plt.figure(figsize=(6, 4))\n",
    "sns.heatmap(con_max, annot=True, fmt='d', cmap='Blues', xticklabels=['Not Schizophrenic', 'Schizophrenic'],\n",
    "                yticklabels=['Not Schizophrenic', 'Schizophrenic'])\n",
    "plt.title('logistic Confusion Matrix')\n",
    "plt.xlabel('Predicted')\n",
    "plt.ylabel('Actual')\n",
    "plt.show()"
   ]
  }
 ],
 "metadata": {
  "kernelspec": {
   "display_name": "base",
   "language": "python",
   "name": "python3"
  },
  "language_info": {
   "codemirror_mode": {
    "name": "ipython",
    "version": 3
   },
   "file_extension": ".py",
   "mimetype": "text/x-python",
   "name": "python",
   "nbconvert_exporter": "python",
   "pygments_lexer": "ipython3",
   "version": "3.12.4"
  }
 },
 "nbformat": 4,
 "nbformat_minor": 2
}
